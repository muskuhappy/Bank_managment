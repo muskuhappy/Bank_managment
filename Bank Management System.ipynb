{
 "cells": [
  {
   "cell_type": "code",
   "execution_count": 1,
   "id": "cdcebcf2-c3e6-415b-abf2-71ed9d4b81ca",
   "metadata": {},
   "outputs": [],
   "source": [
    "import tkinter as tk"
   ]
  },
  {
   "cell_type": "code",
   "execution_count": 89,
   "id": "921d5ab3-9562-4701-b6b1-db2a05453c7a",
   "metadata": {},
   "outputs": [],
   "source": [
    "def Bank_Login():\n",
    "    root=tk.Tk()\n",
    "    root.geometry(\"500x350\")\n",
    "    root.title(\"Bank Management System\")\n",
    "    l1=tk.Label(root,text=\"Name:\",font=200).place(x=110,y=60)\n",
    "    e1=tk.Entry(root,font=200)\n",
    "    e1.place(x=190,y=65)\n",
    "    l2=tk.Label(root,text=\"Age:\",font=200).place(x=115,y=100)\n",
    "    e2=tk.Entry(root,font=200)\n",
    "    e2.place(x=190,y=105)\n",
    "    l2=tk.Label(root,text=\"Salary:\",font=200).place(x=105,y=150)\n",
    "    e2=tk.Entry(root,font=200)\n",
    "    e2.place(x=190,y=150)\n",
    "    l2=tk.Label(root,text=\"PIN:\",font=200).place(x=115,y=200)\n",
    "    e2=tk.Entry(root,font=200)\n",
    "    e2.place(x=190,y=200)\n",
    "    tk.Button(root, font=20,text=\"Create Account\", command=root.destroy,bg=\"green\",fg=\"white\").place(x=220,y=260)\n",
    "\n",
    "root = tk.Tk()\n",
    "root.geometry(\"500x350\")\n",
    "root.title(\"Bank Management System\")\n",
    "tk.Button(root, text=\"Open Bank Login\", font=(\"Arial\", 14), command=Bank_Login, bg=\"blue\", fg=\"white\").place(x=150, y=150)\n",
    "root.mainloop()\n"
   ]
  },
  {
   "cell_type": "code",
   "execution_count": null,
   "id": "19b18535-dd0d-4ff3-bccb-35cb56cc22c7",
   "metadata": {},
   "outputs": [],
   "source": []
  }
 ],
 "metadata": {
  "kernelspec": {
   "display_name": "Python 3 (ipykernel)",
   "language": "python",
   "name": "python3"
  },
  "language_info": {
   "codemirror_mode": {
    "name": "ipython",
    "version": 3
   },
   "file_extension": ".py",
   "mimetype": "text/x-python",
   "name": "python",
   "nbconvert_exporter": "python",
   "pygments_lexer": "ipython3",
   "version": "3.12.4"
  }
 },
 "nbformat": 4,
 "nbformat_minor": 5
}
